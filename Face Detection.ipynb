{
 "cells": [
  {
   "cell_type": "code",
   "execution_count": 1,
   "metadata": {},
   "outputs": [],
   "source": [
    "import cv2"
   ]
  },
  {
   "cell_type": "code",
   "execution_count": 2,
   "metadata": {},
   "outputs": [],
   "source": [
    "#Loading the Cascades\n",
    "#we're going to use a pre-trained cascade classifier\n",
    "\n",
    "face_cascade = cv2.CascadeClassifier('haarcascade_frontalface_default.xml')\n",
    "eye_cascade = cv2.CascadeClassifier('haarcascade_eye.xml')\n",
    "smile_cascade = cv2.CascadeClassifier('haarcascade_smile.xml')"
   ]
  },
  {
   "cell_type": "code",
   "execution_count": 3,
   "metadata": {},
   "outputs": [],
   "source": [
    "#Defining a Function to do the Detections\n",
    "#we're creating a function to utilize the pre-trained cascade we imported above and to create a rectangle around the face\n",
    "def detect_face(gray, frame):\n",
    "  \n",
    "    face_rectangle = face_cascade.detectMultiScale(image = gray, scaleFactor = 1.3, minNeighbors = 5) #need at least 5 neighbour zones to be accepted and scaleFactor of 1.3 has been found to be effective by experimentation\n",
    "    \n",
    "    for (x,y,w,h) in face_rectangle: \n",
    "        cv2.rectangle(img = frame, pt1 = (x,y), pt2 = (x+w,y+h), color = (255,255,255), thickness = 4) \n",
    "        \n",
    "        roi_gray = gray[y:y+h, x:x+w] #grabbing a region of interest which is the face rectangle we made above, so that we can find eyes within this ROI\n",
    "        roi_color = frame[y:y+h, x:x+w] #grabbing a region of interest which is the face rectangle we made above, so that we can find eyes within this ROI\n",
    "        eye_rectangles = eye_cascade.detectMultiScale(roi_gray, 1.1, 14) #so now applying the eye cascade on the gray region of interest rather than the whole image. need at least 14 neighbour zones to be accepted and scaleFactor of 1.1 has been found to be effective by experimentation\n",
    "        for (ex,ey,ew,eh) in eye_rectangles: \n",
    "            cv2.rectangle(img = roi_color, pt1 = (ex,ey), pt2 = (ex+ew,ey+eh), color = (255,0,0), thickness = 2) #so now we're drawing the eye rectangles on the ROI for the colored frame\n",
    "        \n",
    "        smile_rectangles = smile_cascade.detectMultiScale(roi_gray, 1.7, 22) #so now applying the eye cascade on the gray region of interest rather than the whole image. need at least 22 neighbour zones to be accepted and scaleFactor of 1.7 has been found to be effective by experimentation\n",
    "        for (sx,sy,sw,sh) in smile_rectangles: \n",
    "            cv2.rectangle(img = roi_color, pt1 = (sx,sy), pt2 = (sx+sw,sy+sh), color = (0,255,0), thickness = 2) #so now we're drawing the smile rectangles on the ROI for the colored frame\n",
    "    \n",
    "    return frame #returning the frame which now has the newly added rectangles"
   ]
  },
  {
   "cell_type": "code",
   "execution_count": 4,
   "metadata": {},
   "outputs": [],
   "source": [
    "# Doing some Face Recognition with the Webcam\n",
    "cap = cv2.VideoCapture(0) #0 ismwebcam of computer, 1 is external webcam\n",
    "\n",
    "while True:\n",
    "    ret, frame = cap.read(0)\n",
    "    gray = cv2.cvtColor(frame, cv2.COLOR_BGR2GRAY) # We do some colour transformations.\n",
    "    canvas = detect_face(gray, frame)\n",
    "    \n",
    "    cv2.imshow(winname = 'Video Face Detect', mat = canvas)\n",
    "    \n",
    "    if cv2.waitKey(1) & 0xFF == ord('q'):\n",
    "        break\n",
    "        \n",
    "cap.release()\n",
    "cv2.destroyAllWindows()\n"
   ]
  },
  {
   "cell_type": "code",
   "execution_count": null,
   "metadata": {},
   "outputs": [],
   "source": []
  }
 ],
 "metadata": {
  "kernelspec": {
   "display_name": "Python 3",
   "language": "python",
   "name": "python3"
  },
  "language_info": {
   "codemirror_mode": {
    "name": "ipython",
    "version": 3
   },
   "file_extension": ".py",
   "mimetype": "text/x-python",
   "name": "python",
   "nbconvert_exporter": "python",
   "pygments_lexer": "ipython3",
   "version": "3.7.7"
  }
 },
 "nbformat": 4,
 "nbformat_minor": 4
}
